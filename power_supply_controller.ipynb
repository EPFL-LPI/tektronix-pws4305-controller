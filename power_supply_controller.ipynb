{
 "cells": [
  {
   "cell_type": "markdown",
   "metadata": {},
   "source": [
    "# Power Supply Controller\n",
    "## For use with Tektronix PWS4305"
   ]
  },
  {
   "cell_type": "code",
   "execution_count": 1,
   "metadata": {},
   "outputs": [],
   "source": [
    "# standard imports\n",
    "import os\n",
    "import sys\n",
    "\n",
    "# SCPI imports\n",
    "import usb\n",
    "import visa\n",
    "\n",
    "# instrument controller\n",
    "import scpi_instrument as scpi"
   ]
  },
  {
   "cell_type": "code",
   "execution_count": 2,
   "metadata": {},
   "outputs": [],
   "source": [
    "class PowerSupply( scpi.SCPI_Instrument ):\n",
    "    \n",
    "    def __init__( self, timeout = 10, rid = None ):\n",
    "        scpi.SCPI_Instrument.__init__( self, None, timeout, '\\n', '\\n' )\n",
    "        self.rid = 'USB0::0x0699::0x0392::C011451::INSTR' if ( rid is None ) else rid\n",
    "        \n",
    "    #--- public methods ---\n",
    "    \n",
    "    @property        \n",
    "    def voltage( self ):\n",
    "        \"\"\"\n",
    "        Returns the voltage setting\n",
    "        \"\"\"\n",
    "        return self.source.volt.level()\n",
    "    \n",
    "    \n",
    "    @voltage.setter\n",
    "    def voltage( self, volts ):\n",
    "        \"\"\"\n",
    "        Sets the voltage of the instrument\n",
    "        \"\"\"\n",
    "        self.source.volt.level( volts )\n",
    "        \n",
    "    \n",
    "    @property\n",
    "    def current( self ):\n",
    "        \"\"\"\n",
    "        Returns the current setting in Amps\n",
    "        \"\"\"\n",
    "        return self.source.current.level()\n",
    "        \n",
    "        \n",
    "    @current.setter\n",
    "    def current( self, amps ):\n",
    "        \"\"\"\n",
    "        Set the current of the instrument\n",
    "        \"\"\"\n",
    "        self.source.current.level( amps )\n",
    "        \n",
    "    \n",
    "    def on( self ):\n",
    "        \"\"\"\n",
    "        Turns the output on\n",
    "        \"\"\"\n",
    "        self.output.state( 'on' )\n",
    "        \n",
    "        \n",
    "    def off( self):\n",
    "        \"\"\"\n",
    "        Turns the output off\n",
    "        \"\"\"\n",
    "        self.output.state( 'off' )\n",
    "        "
   ]
  },
  {
   "cell_type": "code",
   "execution_count": 3,
   "metadata": {},
   "outputs": [],
   "source": [
    "ps = PowerSupply()"
   ]
  },
  {
   "cell_type": "code",
   "execution_count": 8,
   "metadata": {
    "scrolled": false
   },
   "outputs": [],
   "source": [
    "ps.connect()"
   ]
  },
  {
   "cell_type": "code",
   "execution_count": 9,
   "metadata": {},
   "outputs": [
    {
     "data": {
      "text/plain": [
       "'Tektronix, PWS4305, C011451, 1.26-1.25'"
      ]
     },
     "execution_count": 9,
     "metadata": {},
     "output_type": "execute_result"
    }
   ],
   "source": [
    "ps.id"
   ]
  },
  {
   "cell_type": "code",
   "execution_count": 10,
   "metadata": {},
   "outputs": [],
   "source": [
    "del ps"
   ]
  },
  {
   "cell_type": "code",
   "execution_count": 90,
   "metadata": {},
   "outputs": [],
   "source": [
    "# ps.off()"
   ]
  }
 ],
 "metadata": {
  "kernelspec": {
   "display_name": "Python 3",
   "language": "python",
   "name": "python3"
  },
  "language_info": {
   "codemirror_mode": {
    "name": "ipython",
    "version": 3
   },
   "file_extension": ".py",
   "mimetype": "text/x-python",
   "name": "python",
   "nbconvert_exporter": "python",
   "pygments_lexer": "ipython3",
   "version": "3.7.0"
  }
 },
 "nbformat": 4,
 "nbformat_minor": 2
}
